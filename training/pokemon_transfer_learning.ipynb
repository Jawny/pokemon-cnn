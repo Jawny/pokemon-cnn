{
 "cells": [
  {
   "cell_type": "code",
   "execution_count": null,
   "metadata": {},
   "outputs": [],
   "source": [
    "!pip install opencv-python requests\n",
    "!sudo apt install imagemagick -y"
   ]
  },
  {
   "cell_type": "code",
   "execution_count": null,
   "metadata": {
    "id": "yLZYvrses8eb"
   },
   "outputs": [],
   "source": [
    "import os\n",
    "import matplotlib.pyplot as plt\n",
    "import numpy as np\n",
    "import PIL\n",
    "import tensorflow as tf\n",
    "from tensorflow.keras import layers\n",
    "from tensorflow.keras.layers import Conv2D, MaxPooling2D, Dense, Flatten, Dropout\n",
    "from tensorflow.keras.models import Sequential\n",
    "from tensorflow.keras.optimizers import Adam"
   ]
  },
  {
   "cell_type": "code",
   "execution_count": null,
   "metadata": {},
   "outputs": [],
   "source": [
    "# Check if GPUs are enabled for training\n",
    "print(\"Num GPUs Available: \", len(tf.config.list_physical_devices('GPU')))"
   ]
  },
  {
   "cell_type": "code",
   "execution_count": null,
   "metadata": {
    "id": "g_IgYIb0vAhJ"
   },
   "outputs": [],
   "source": [
    "data_dir = './PokemonData'"
   ]
  },
  {
   "cell_type": "code",
   "execution_count": null,
   "metadata": {},
   "outputs": [],
   "source": [
    "# prepare data\n",
    "!chmod u+x mogrifyScript.sh\n",
    "!./mogrifyScript.sh\n",
    "!python3 skewData.py"
   ]
  },
  {
   "cell_type": "code",
   "execution_count": null,
   "metadata": {
    "id": "IEr4984_tAYb"
   },
   "outputs": [],
   "source": [
    "# Set variables to reformat img heights and width and set batch size.\n",
    "img_height,img_width=300,300\n",
    "batch_size=32"
   ]
  },
  {
   "cell_type": "code",
   "execution_count": null,
   "metadata": {
    "colab": {
     "base_uri": "https://localhost:8080/"
    },
    "id": "BCJ_8VYi6iW5",
    "outputId": "45e21d63-1c27-4688-a180-e47198030d00"
   },
   "outputs": [],
   "source": [
    "# Create a training dataset with 80% of the data\n",
    "train_ds = tf.keras.preprocessing.image_dataset_from_directory(\n",
    "  data_dir,\n",
    "  validation_split=0.2,\n",
    "  label_mode=\"int\",\n",
    "  subset=\"training\",\n",
    "  seed=123,\n",
    "  image_size=(img_height, img_width),\n",
    "  batch_size=batch_size)"
   ]
  },
  {
   "cell_type": "code",
   "execution_count": null,
   "metadata": {
    "colab": {
     "base_uri": "https://localhost:8080/"
    },
    "id": "-8o0WOXv6c4Y",
    "outputId": "c31c1374-a936-4588-f5e3-a229db736992"
   },
   "outputs": [],
   "source": [
    "# Create a validation dataset with 20% of the data\n",
    "val_ds = tf.keras.preprocessing.image_dataset_from_directory(\n",
    "  data_dir,\n",
    "  validation_split=0.2,\n",
    "  label_mode=\"int\",\n",
    "  subset=\"validation\",\n",
    "  seed=123,\n",
    "  image_size=(img_height, img_width),\n",
    "  batch_size=batch_size)"
   ]
  },
  {
   "cell_type": "code",
   "execution_count": null,
   "metadata": {
    "colab": {
     "base_uri": "https://localhost:8080/",
     "height": 437
    },
    "id": "3ebM9zoHu8oE",
    "outputId": "71b94265-64d4-46ff-8da7-f233c9cf6b77"
   },
   "outputs": [],
   "source": [
    "# View classnames and check if images are loaded properly\n",
    "class_names = train_ds.class_names\n",
    "print(class_names)\n",
    "\n",
    "plt.figure(figsize=(10, 10))\n",
    "for images, labels in train_ds.take(1):\n",
    "  for i in range(6):\n",
    "    ax = plt.subplot(3, 3, i + 1)\n",
    "    plt.imshow(images[i].numpy().astype(\"uint8\"))\n",
    "    plt.title(class_names[labels[i]])\n",
    "    plt.axis(\"off\")"
   ]
  },
  {
   "cell_type": "code",
   "execution_count": null,
   "metadata": {
    "colab": {
     "base_uri": "https://localhost:8080/"
    },
    "id": "CxC6_dEj61ya",
    "outputId": "5cfc8e0c-02f5-4eb3-ed27-1cf7f8dc5c40"
   },
   "outputs": [],
   "source": [
    "# enable multi-gpu\n",
    "strategy = tf.distribute.MirroredStrategy()\n",
    "print('Number of devices: {}'.format(strategy.num_replicas_in_sync))\n",
    "\n",
    "\n",
    "with strategy.scope():\n",
    "    model = Sequential()\n",
    "    # import pretrained model and output layer (where learning will take place)\n",
    "    pretrained_model= tf.keras.applications.vgg19.VGG19(include_top=False,\n",
    "                       input_shape=(300,300,3),\n",
    "                       pooling='avg',classes=150,\n",
    "                       weights='imagenet')\n",
    "    for layer in pretrained_model.layers:\n",
    "            layer.trainable=False\n",
    "\n",
    "    model.add(pretrained_model)\n",
    "\n",
    "    model.add(Flatten())\n",
    "    model.add(Dense(512, activation='relu'))\n",
    "    model.add(Dense(150, activation='softmax'))\n",
    "    model.summary()"
   ]
  },
  {
   "cell_type": "code",
   "execution_count": null,
   "metadata": {},
   "outputs": [],
   "source": [
    "model.compile(optimizer=Adam(lr=0.001),loss='sparse_categorical_crossentropy',metrics=['accuracy'])\n",
    "history = model.fit(train_ds, validation_data=val_ds, epochs=10)"
   ]
  },
  {
   "cell_type": "code",
   "execution_count": null,
   "metadata": {
    "colab": {
     "base_uri": "https://localhost:8080/"
    },
    "id": "2Nz012Jy-5EW",
    "outputId": "4c2de1d5-7eb5-49f4-abc1-98da8a37af30"
   },
   "outputs": [],
   "source": [
    "model.save(os.path.join('./results','pokemonclassifierVGG19.h5'))\n",
    "tf.saved_model.save(model, './results/saved_model')"
   ]
  },
  {
   "cell_type": "code",
   "execution_count": null,
   "metadata": {
    "id": "la4MjfV7umXl"
   },
   "outputs": [],
   "source": [
    "from keras.models import load_model\n",
    "inference_model = load_model('./results/pokemonclassifierVGG19.h5')\n",
    "# inference_model = model"
   ]
  },
  {
   "cell_type": "code",
   "execution_count": null,
   "metadata": {},
   "outputs": [],
   "source": [
    "# download image from the web to perform inference\n",
    "pic_url = \"https://www.kindpng.com/picc/m/17-176253_transparent-kabuto-png-pokemon-kabutops-mega-evolution-png.png\"\n",
    "with open('pic1.jpg', 'wb') as handle:\n",
    "    response = requests.get(pic_url, stream=True)\n",
    "\n",
    "    if not response.ok:\n",
    "        print(response)\n",
    "\n",
    "    for block in response.iter_content(1024):\n",
    "        if not block:\n",
    "            break\n",
    "\n",
    "        handle.write(block)"
   ]
  },
  {
   "cell_type": "code",
   "execution_count": null,
   "metadata": {
    "colab": {
     "base_uri": "https://localhost:8080/"
    },
    "id": "wPUFquiskrBP",
    "outputId": "6c926e91-614e-4721-c75d-c805bba87171"
   },
   "outputs": [],
   "source": [
    "import cv2\n",
    "import pathlib\n",
    "import requests\n",
    "# Perform inference with training data\n",
    "\n",
    "# inference_dir = pathlib.Path(data_dir)\n",
    "# selected_pokemon = list(inference_dir.glob('Golem/*'))[0]\n",
    "\n",
    "# Perform Inference with new data\n",
    "selected_pokemon = pathlib.Path(\"./pic1.jpg\")\n",
    "PIL.Image.open(str(selected_pokemon))\n",
    "\n",
    "image=cv2.imread(str(selected_pokemon))\n",
    "image_resized= cv2.resize(image, (img_height,img_width))\n",
    "image=np.expand_dims(image_resized,axis=0)\n",
    "print(image.shape)\n",
    "\n",
    "pred=inference_model.predict(image)\n",
    "output_class=class_names[np.argmax(pred)]\n",
    "print(\"The predicted class is\", output_class)"
   ]
  },
  {
   "cell_type": "code",
   "execution_count": null,
   "metadata": {},
   "outputs": [],
   "source": []
  },
  {
   "cell_type": "code",
   "execution_count": null,
   "metadata": {},
   "outputs": [],
   "source": []
  }
 ],
 "metadata": {
  "colab": {
   "collapsed_sections": [],
   "name": "pokemon-transfer-learning.ipynb",
   "provenance": []
  },
  "kernelspec": {
   "display_name": "Python 3 (ipykernel)",
   "language": "python",
   "name": "python3"
  },
  "language_info": {
   "codemirror_mode": {
    "name": "ipython",
    "version": 3
   },
   "file_extension": ".py",
   "mimetype": "text/x-python",
   "name": "python",
   "nbconvert_exporter": "python",
   "pygments_lexer": "ipython3",
   "version": "3.10.5"
  },
  "vscode": {
   "interpreter": {
    "hash": "916dbcbb3f70747c44a77c7bcd40155683ae19c65e1c03b4aa3499c5328201f1"
   }
  }
 },
 "nbformat": 4,
 "nbformat_minor": 4
}
